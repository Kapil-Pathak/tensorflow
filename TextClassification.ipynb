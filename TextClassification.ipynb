{
  "nbformat": 4,
  "nbformat_minor": 0,
  "metadata": {
    "colab": {
      "name": "TextClassification.ipynb",
      "version": "0.3.2",
      "provenance": [],
      "include_colab_link": true
    },
    "kernelspec": {
      "name": "python3",
      "display_name": "Python 3"
    }
  },
  "cells": [
    {
      "cell_type": "markdown",
      "metadata": {
        "id": "view-in-github",
        "colab_type": "text"
      },
      "source": [
        "[View in Colaboratory](https://colab.research.google.com/github/Kapil-Pathak/tensorflow/blob/master/TextClassification.ipynb)"
      ]
    },
    {
      "metadata": {
        "id": "TRg9wdU97dte",
        "colab_type": "code",
        "colab": {
          "base_uri": "https://localhost:8080/",
          "height": 34
        },
        "outputId": "d24ced41-7420-4367-e1dc-e6d6d5bf7dca"
      },
      "cell_type": "code",
      "source": [
        "import tensorflow as tf\n",
        "from tensorflow import keras\n",
        "\n",
        "import numpy as np\n",
        "\n",
        "print(tf.__version__)"
      ],
      "execution_count": 1,
      "outputs": [
        {
          "output_type": "stream",
          "text": [
            "1.10.1\n"
          ],
          "name": "stdout"
        }
      ]
    },
    {
      "metadata": {
        "id": "stx_1Eng7XKU",
        "colab_type": "code",
        "colab": {
          "base_uri": "https://localhost:8080/",
          "height": 51
        },
        "outputId": "2a05a868-0e9b-447c-f7c2-d469c83793e8"
      },
      "cell_type": "code",
      "source": [
        "imdb = keras.datasets.imdb\n",
        "\n",
        "(train_data, train_labels), (test_data, test_labels) = imdb.load_data(num_words=10000)"
      ],
      "execution_count": 2,
      "outputs": [
        {
          "output_type": "stream",
          "text": [
            "Downloading data from https://storage.googleapis.com/tensorflow/tf-keras-datasets/imdb.npz\n",
            "17465344/17464789 [==============================] - 0s 0us/step\n"
          ],
          "name": "stdout"
        }
      ]
    },
    {
      "metadata": {
        "id": "8iyv5pp_8dz5",
        "colab_type": "code",
        "colab": {
          "base_uri": "https://localhost:8080/",
          "height": 34
        },
        "outputId": "dda0463c-1fb8-4367-e0d3-629d2e58699d"
      },
      "cell_type": "code",
      "source": [
        "print(\"Training entries: {}, labels: {}\".format(len(train_data), len(train_labels)))\n"
      ],
      "execution_count": 3,
      "outputs": [
        {
          "output_type": "stream",
          "text": [
            "Training entries: 25000, labels: 25000\n"
          ],
          "name": "stdout"
        }
      ]
    },
    {
      "metadata": {
        "id": "Xtje395k-aUK",
        "colab_type": "code",
        "colab": {
          "base_uri": "https://localhost:8080/",
          "height": 51
        },
        "outputId": "b1400a3b-8729-424e-a725-fd02ca6bc925"
      },
      "cell_type": "code",
      "source": [
        "word_index = imdb.get_word_index()\n",
        "\n",
        "# The first indices are reserved\n",
        "word_index = {k:(v+3) for k,v in word_index.items()} \n",
        "word_index[\"<PAD>\"] = 0\n",
        "word_index[\"<START>\"] = 1\n",
        "word_index[\"<UNK>\"] = 2  # unknown\n",
        "word_index[\"<UNUSED>\"] = 3\n"
      ],
      "execution_count": 4,
      "outputs": [
        {
          "output_type": "stream",
          "text": [
            "Downloading data from https://storage.googleapis.com/tensorflow/tf-keras-datasets/imdb_word_index.json\n",
            "1646592/1641221 [==============================] - 0s 0us/step\n"
          ],
          "name": "stdout"
        }
      ]
    },
    {
      "metadata": {
        "id": "XTAou0my-gBq",
        "colab_type": "code",
        "colab": {
          "base_uri": "https://localhost:8080/",
          "height": 54
        },
        "outputId": "563b1ed8-3c40-47f2-8745-8ded0f48a244"
      },
      "cell_type": "code",
      "source": [
        "reverse_word_index = dict([(value, key) for (key, value) in word_index.items()])\n",
        "def decode_review(text):\n",
        "    return ' '.join([reverse_word_index.get(i, '?') for i in text])\n",
        "decode_review(train_data[0])\n"
      ],
      "execution_count": 8,
      "outputs": [
        {
          "output_type": "execute_result",
          "data": {
            "text/plain": [
              "\"<START> this film was just brilliant casting location scenery story direction everyone's really suited the part they played and you could just imagine being there robert <UNK> is an amazing actor and now the same being director <UNK> father came from the same scottish island as myself so i loved the fact there was a real connection with this film the witty remarks throughout the film were great it was just brilliant so much that i bought the film as soon as it was released for <UNK> and would recommend it to everyone to watch and the fly fishing was amazing really cried at the end it was so sad and you know what they say if you cry at a film it must have been good and this definitely was also <UNK> to the two little boy's that played the <UNK> of norman and paul they were just brilliant children are often left out of the <UNK> list i think because the stars that play them all grown up are such a big profile for the whole film but these children are amazing and should be praised for what they have done don't you think the whole story was so lovely because it was true and was someone's life after all that was shared with us all\""
            ]
          },
          "metadata": {
            "tags": []
          },
          "execution_count": 8
        }
      ]
    },
    {
      "metadata": {
        "id": "NCiA9ugACH5G",
        "colab_type": "code",
        "colab": {}
      },
      "cell_type": "code",
      "source": [
        "train_data = keras.preprocessing.sequence.pad_sequences(train_data,\n",
        "                                                        value=word_index[\"<PAD>\"],\n",
        "                                                        padding='post',\n",
        "                                                        maxlen=256)\n",
        "\n",
        "test_data = keras.preprocessing.sequence.pad_sequences(test_data,\n",
        "                                                       value=word_index[\"<PAD>\"],\n",
        "                                                       padding='post',\n",
        "                                                       maxlen=256)\n"
      ],
      "execution_count": 0,
      "outputs": []
    },
    {
      "metadata": {
        "id": "WRc-CFShCTMl",
        "colab_type": "code",
        "colab": {
          "base_uri": "https://localhost:8080/",
          "height": 272
        },
        "outputId": "3eb253db-b9b3-46f1-e89a-946f05c392e3"
      },
      "cell_type": "code",
      "source": [
        "len(train_data[0]), len(train_data[1])\n",
        "vocab_size = 10000\n",
        "\n",
        "model = keras.Sequential()\n",
        "model.add(keras.layers.Embedding(vocab_size, 16))\n",
        "model.add(keras.layers.GlobalAveragePooling1D())\n",
        "model.add(keras.layers.Dense(16, activation=tf.nn.relu))\n",
        "model.add(keras.layers.Dense(1, activation=tf.nn.sigmoid))\n",
        "\n",
        "model.summary()\n"
      ],
      "execution_count": 12,
      "outputs": [
        {
          "output_type": "stream",
          "text": [
            "_________________________________________________________________\n",
            "Layer (type)                 Output Shape              Param #   \n",
            "=================================================================\n",
            "embedding (Embedding)        (None, None, 16)          160000    \n",
            "_________________________________________________________________\n",
            "global_average_pooling1d (Gl (None, 16)                0         \n",
            "_________________________________________________________________\n",
            "dense (Dense)                (None, 16)                272       \n",
            "_________________________________________________________________\n",
            "dense_1 (Dense)              (None, 1)                 17        \n",
            "=================================================================\n",
            "Total params: 160,289\n",
            "Trainable params: 160,289\n",
            "Non-trainable params: 0\n",
            "_________________________________________________________________\n"
          ],
          "name": "stdout"
        }
      ]
    },
    {
      "metadata": {
        "id": "4XojaqIkIshT",
        "colab_type": "code",
        "colab": {}
      },
      "cell_type": "code",
      "source": [
        "model.compile(optimizer=tf.train.AdamOptimizer(),\n",
        "              loss='binary_crossentropy',\n",
        "              metrics=['accuracy'])\n"
      ],
      "execution_count": 0,
      "outputs": []
    },
    {
      "metadata": {
        "id": "ECkcgNaOI8oM",
        "colab_type": "code",
        "colab": {}
      },
      "cell_type": "code",
      "source": [
        "x_val = train_data[:10000]\n",
        "partial_x_train = train_data[10000:]\n",
        "\n",
        "y_val = train_labels[:10000]\n",
        "partial_y_train = train_labels[10000:]"
      ],
      "execution_count": 0,
      "outputs": []
    },
    {
      "metadata": {
        "id": "Dm2rmtNeJwUv",
        "colab_type": "code",
        "colab": {
          "base_uri": "https://localhost:8080/",
          "height": 1394
        },
        "outputId": "c5edcffb-8517-4673-b676-c8450da96f39"
      },
      "cell_type": "code",
      "source": [
        "history = model.fit(partial_x_train,\n",
        "                    partial_y_train,\n",
        "                    epochs=40,\n",
        "                    batch_size=512,\n",
        "                    validation_data=(x_val, y_val),\n",
        "                    verbose=1)\n"
      ],
      "execution_count": 15,
      "outputs": [
        {
          "output_type": "stream",
          "text": [
            "Train on 15000 samples, validate on 10000 samples\n",
            "Epoch 1/40\n",
            "15000/15000 [==============================] - 1s 73us/step - loss: 0.6926 - acc: 0.5243 - val_loss: 0.6901 - val_acc: 0.5337\n",
            "Epoch 2/40\n",
            "15000/15000 [==============================] - 1s 51us/step - loss: 0.6879 - acc: 0.5749 - val_loss: 0.6865 - val_acc: 0.6110\n",
            "Epoch 3/40\n",
            "15000/15000 [==============================] - 1s 61us/step - loss: 0.6841 - acc: 0.6286 - val_loss: 0.6830 - val_acc: 0.6559\n",
            "Epoch 4/40\n",
            "15000/15000 [==============================] - 1s 62us/step - loss: 0.6796 - acc: 0.6620 - val_loss: 0.6795 - val_acc: 0.5773\n",
            "Epoch 5/40\n",
            "15000/15000 [==============================] - 1s 62us/step - loss: 0.6739 - acc: 0.6887 - val_loss: 0.6722 - val_acc: 0.7045\n",
            "Epoch 6/40\n",
            "15000/15000 [==============================] - 1s 61us/step - loss: 0.6659 - acc: 0.7220 - val_loss: 0.6636 - val_acc: 0.7075\n",
            "Epoch 7/40\n",
            "15000/15000 [==============================] - 1s 62us/step - loss: 0.6546 - acc: 0.7402 - val_loss: 0.6521 - val_acc: 0.7327\n",
            "Epoch 8/40\n",
            "15000/15000 [==============================] - 1s 63us/step - loss: 0.6401 - acc: 0.7535 - val_loss: 0.6376 - val_acc: 0.7464\n",
            "Epoch 9/40\n",
            "15000/15000 [==============================] - 1s 61us/step - loss: 0.6223 - acc: 0.7632 - val_loss: 0.6192 - val_acc: 0.7535\n",
            "Epoch 10/40\n",
            "15000/15000 [==============================] - 1s 61us/step - loss: 0.6002 - acc: 0.7831 - val_loss: 0.5978 - val_acc: 0.7690\n",
            "Epoch 11/40\n",
            "15000/15000 [==============================] - 1s 62us/step - loss: 0.5752 - acc: 0.7854 - val_loss: 0.5768 - val_acc: 0.7693\n",
            "Epoch 12/40\n",
            "15000/15000 [==============================] - 1s 62us/step - loss: 0.5485 - acc: 0.7991 - val_loss: 0.5489 - val_acc: 0.7923\n",
            "Epoch 13/40\n",
            "15000/15000 [==============================] - 1s 62us/step - loss: 0.5191 - acc: 0.8152 - val_loss: 0.5239 - val_acc: 0.8051\n",
            "Epoch 14/40\n",
            "15000/15000 [==============================] - 1s 61us/step - loss: 0.4908 - acc: 0.8258 - val_loss: 0.4987 - val_acc: 0.8137\n",
            "Epoch 15/40\n",
            "15000/15000 [==============================] - 1s 62us/step - loss: 0.4630 - acc: 0.8374 - val_loss: 0.4740 - val_acc: 0.8196\n",
            "Epoch 16/40\n",
            "15000/15000 [==============================] - 1s 61us/step - loss: 0.4370 - acc: 0.8460 - val_loss: 0.4512 - val_acc: 0.8314\n",
            "Epoch 17/40\n",
            "15000/15000 [==============================] - 1s 62us/step - loss: 0.4116 - acc: 0.8578 - val_loss: 0.4308 - val_acc: 0.8389\n",
            "Epoch 18/40\n",
            "15000/15000 [==============================] - 1s 61us/step - loss: 0.3892 - acc: 0.8667 - val_loss: 0.4123 - val_acc: 0.8445\n",
            "Epoch 19/40\n",
            "15000/15000 [==============================] - 1s 62us/step - loss: 0.3691 - acc: 0.8728 - val_loss: 0.3962 - val_acc: 0.8490\n",
            "Epoch 20/40\n",
            "15000/15000 [==============================] - 1s 61us/step - loss: 0.3509 - acc: 0.8797 - val_loss: 0.3821 - val_acc: 0.8528\n",
            "Epoch 21/40\n",
            "15000/15000 [==============================] - 1s 62us/step - loss: 0.3347 - acc: 0.8837 - val_loss: 0.3699 - val_acc: 0.8562\n",
            "Epoch 22/40\n",
            "15000/15000 [==============================] - 1s 62us/step - loss: 0.3202 - acc: 0.8889 - val_loss: 0.3593 - val_acc: 0.8598\n",
            "Epoch 23/40\n",
            "15000/15000 [==============================] - 1s 63us/step - loss: 0.3073 - acc: 0.8923 - val_loss: 0.3505 - val_acc: 0.8630\n",
            "Epoch 24/40\n",
            "15000/15000 [==============================] - 1s 63us/step - loss: 0.2951 - acc: 0.8963 - val_loss: 0.3420 - val_acc: 0.8665\n",
            "Epoch 25/40\n",
            "15000/15000 [==============================] - 1s 61us/step - loss: 0.2843 - acc: 0.9001 - val_loss: 0.3349 - val_acc: 0.8693\n",
            "Epoch 26/40\n",
            "15000/15000 [==============================] - 1s 61us/step - loss: 0.2742 - acc: 0.9023 - val_loss: 0.3292 - val_acc: 0.8702\n",
            "Epoch 27/40\n",
            "15000/15000 [==============================] - 1s 60us/step - loss: 0.2654 - acc: 0.9037 - val_loss: 0.3236 - val_acc: 0.8714\n",
            "Epoch 28/40\n",
            "15000/15000 [==============================] - 1s 60us/step - loss: 0.2563 - acc: 0.9091 - val_loss: 0.3182 - val_acc: 0.8748\n",
            "Epoch 29/40\n",
            "15000/15000 [==============================] - 1s 61us/step - loss: 0.2484 - acc: 0.9119 - val_loss: 0.3144 - val_acc: 0.8757\n",
            "Epoch 30/40\n",
            "15000/15000 [==============================] - 1s 61us/step - loss: 0.2418 - acc: 0.9121 - val_loss: 0.3102 - val_acc: 0.8774\n",
            "Epoch 31/40\n",
            "15000/15000 [==============================] - 1s 61us/step - loss: 0.2338 - acc: 0.9163 - val_loss: 0.3071 - val_acc: 0.8790\n",
            "Epoch 32/40\n",
            "15000/15000 [==============================] - 1s 61us/step - loss: 0.2277 - acc: 0.9189 - val_loss: 0.3040 - val_acc: 0.8796\n",
            "Epoch 33/40\n",
            "15000/15000 [==============================] - 1s 61us/step - loss: 0.2207 - acc: 0.9215 - val_loss: 0.3014 - val_acc: 0.8808\n",
            "Epoch 34/40\n",
            "15000/15000 [==============================] - 1s 60us/step - loss: 0.2148 - acc: 0.9238 - val_loss: 0.2997 - val_acc: 0.8794\n",
            "Epoch 35/40\n",
            "15000/15000 [==============================] - 1s 60us/step - loss: 0.2096 - acc: 0.9257 - val_loss: 0.2970 - val_acc: 0.8828\n",
            "Epoch 36/40\n",
            "15000/15000 [==============================] - 1s 61us/step - loss: 0.2035 - acc: 0.9283 - val_loss: 0.2953 - val_acc: 0.8828\n",
            "Epoch 37/40\n",
            "15000/15000 [==============================] - 1s 60us/step - loss: 0.1984 - acc: 0.9305 - val_loss: 0.2937 - val_acc: 0.8821\n",
            "Epoch 38/40\n",
            "15000/15000 [==============================] - 1s 60us/step - loss: 0.1935 - acc: 0.9315 - val_loss: 0.2927 - val_acc: 0.8818\n",
            "Epoch 39/40\n",
            "15000/15000 [==============================] - 1s 60us/step - loss: 0.1882 - acc: 0.9352 - val_loss: 0.2910 - val_acc: 0.8823\n",
            "Epoch 40/40\n",
            "15000/15000 [==============================] - 1s 61us/step - loss: 0.1836 - acc: 0.9367 - val_loss: 0.2900 - val_acc: 0.8836\n"
          ],
          "name": "stdout"
        }
      ]
    },
    {
      "metadata": {
        "id": "n9a10T07KHCY",
        "colab_type": "code",
        "colab": {
          "base_uri": "https://localhost:8080/",
          "height": 51
        },
        "outputId": "45e827ee-e6b3-483d-a3c6-c27afc84f6bb"
      },
      "cell_type": "code",
      "source": [
        "results = model.evaluate(test_data, test_labels)\n",
        "\n",
        "print(results)"
      ],
      "execution_count": 16,
      "outputs": [
        {
          "output_type": "stream",
          "text": [
            "25000/25000 [==============================] - 1s 31us/step\n",
            "[0.30515681652069093, 0.8752]\n"
          ],
          "name": "stdout"
        }
      ]
    },
    {
      "metadata": {
        "id": "UQg1pAONKreF",
        "colab_type": "code",
        "colab": {
          "base_uri": "https://localhost:8080/",
          "height": 34
        },
        "outputId": "1bba9feb-1878-4aba-a9d5-d5b5d91a88c6"
      },
      "cell_type": "code",
      "source": [
        "history_dict = history.history\n",
        "history_dict.keys()"
      ],
      "execution_count": 17,
      "outputs": [
        {
          "output_type": "execute_result",
          "data": {
            "text/plain": [
              "dict_keys(['val_loss', 'val_acc', 'loss', 'acc'])"
            ]
          },
          "metadata": {
            "tags": []
          },
          "execution_count": 17
        }
      ]
    },
    {
      "metadata": {
        "id": "rYCmFKiDLGaY",
        "colab_type": "code",
        "colab": {
          "base_uri": "https://localhost:8080/",
          "height": 376
        },
        "outputId": "412cce7c-5361-427c-9973-39450e0dd951"
      },
      "cell_type": "code",
      "source": [
        "import matplotlib.pyplot as plt\n",
        "\n",
        "acc = history.history['acc']\n",
        "val_acc = history.history['val_acc']\n",
        "loss = history.history['loss']\n",
        "val_loss = history.history['val_loss']\n",
        "\n",
        "epochs = range(1, len(acc) + 1)\n",
        "\n",
        "# \"bo\" is for \"blue dot\"\n",
        "plt.plot(epochs, loss, 'bo', label='Training loss')\n",
        "# b is for \"solid blue line\"\n",
        "plt.plot(epochs, val_loss, 'b', label='Validation loss')\n",
        "plt.title('Training and validation loss')\n",
        "plt.xlabel('Epochs')\n",
        "plt.ylabel('Loss')\n",
        "plt.legend()\n",
        "\n",
        "plt.show()\n"
      ],
      "execution_count": 18,
      "outputs": [
        {
          "output_type": "display_data",
          "data": {
            "image/png": "[encoded data removed]",
            "text/plain": [
              "<matplotlib.figure.Figure at 0x7f1d955258d0>"
            ]
          },
          "metadata": {
            "tags": []
          }
        }
      ]
    },
    {
      "metadata": {
        "id": "bBQgonxmLSR7",
        "colab_type": "code",
        "colab": {
          "base_uri": "https://localhost:8080/",
          "height": 376
        },
        "outputId": "082abffc-806a-4a02-feb6-eda2ea3a38e9"
      },
      "cell_type": "code",
      "source": [
        "plt.clf()   # clear figure\n",
        "acc_values = history_dict['acc']\n",
        "val_acc_values = history_dict['val_acc']\n",
        "\n",
        "plt.plot(epochs, acc, 'bo', label='Training acc')\n",
        "plt.plot(epochs, val_acc, 'b', label='Validation acc')\n",
        "plt.title('Training and validation accuracy')\n",
        "plt.xlabel('Epochs')\n",
        "plt.ylabel('Accuracy')\n",
        "plt.legend()\n",
        "\n",
        "plt.show()\n"
      ],
      "execution_count": 19,
      "outputs": [
        {
          "output_type": "display_data",
          "data": {
            "image/png": "[encoded data removed]",
            "text/plain": [
              "<matplotlib.figure.Figure at 0x7f1d955250b8>"
            ]
          },
          "metadata": {
            "tags": []
          }
        }
      ]
    }
  ]
}